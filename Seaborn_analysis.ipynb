{
 "cells": [
  {
   "cell_type": "code",
   "execution_count": 1,
   "id": "b489cb9e",
   "metadata": {},
   "outputs": [
    {
     "name": "stdout",
     "output_type": "stream",
     "text": [
      "Setup Complete\n"
     ]
    }
   ],
   "source": [
    "import pandas as pd\n",
    "pd.plotting.register_matplotlib_converters()\n",
    "import matplotlib.pyplot as plt\n",
    "%matplotlib inline\n",
    "import seaborn as sns\n",
    "print(\"Setup Complete\")"
   ]
  },
  {
   "cell_type": "markdown",
   "id": "d07912a0",
   "metadata": {},
   "source": [
    "# Context"
   ]
  },
  {
   "cell_type": "code",
   "execution_count": null,
   "id": "6b981d68",
   "metadata": {},
   "outputs": [],
   "source": []
  },
  {
   "cell_type": "markdown",
   "id": "9b4320c6",
   "metadata": {},
   "source": [
    "# Data quality assessment"
   ]
  },
  {
   "cell_type": "code",
   "execution_count": 2,
   "id": "e443ca82",
   "metadata": {},
   "outputs": [
    {
     "name": "stdout",
     "output_type": "stream",
     "text": [
      "       PassengerId  Survived\n",
      "0           100000         1\n",
      "1           100001         1\n",
      "2           100002         1\n",
      "3           100003         1\n",
      "4           100004         1\n",
      "...            ...       ...\n",
      "99995       199995         1\n",
      "99996       199996         1\n",
      "99997       199997         1\n",
      "99998       199998         1\n",
      "99999       199999         1\n",
      "\n",
      "[100000 rows x 2 columns]\n",
      "       PassengerId  Pclass                Name     Sex   Age  SibSp  Parch  \\\n",
      "0           100000       3    Holliday, Daniel    male  19.0      0      0   \n",
      "1           100001       3    Nguyen, Lorraine  female  53.0      0      0   \n",
      "2           100002       1     Harris, Heather  female  19.0      0      0   \n",
      "3           100003       2        Larsen, Eric    male  25.0      0      0   \n",
      "4           100004       1       Cleary, Sarah  female  17.0      0      2   \n",
      "...            ...     ...                 ...     ...   ...    ...    ...   \n",
      "99995       199995       3       Cash, Cheryle  female  27.0      0      0   \n",
      "99996       199996       1       Brown, Howard    male  59.0      1      0   \n",
      "99997       199997       3  Lightfoot, Cameron    male  47.0      0      0   \n",
      "99998       199998       1  Jacobsen, Margaret  female  49.0      1      2   \n",
      "99999       199999       1    Fishback, Joanna  female  41.0      0      2   \n",
      "\n",
      "         Ticket    Fare   Cabin Embarked  \n",
      "0         24745   63.01     NaN        S  \n",
      "1         13264    5.81     NaN        S  \n",
      "2         25990   38.91  B15315        C  \n",
      "3        314011   12.93     NaN        S  \n",
      "4         26203   26.89  B22515        C  \n",
      "...         ...     ...     ...      ...  \n",
      "99995      7686   10.12     NaN        Q  \n",
      "99996     13004   68.31     NaN        S  \n",
      "99997   4383317   10.87     NaN        S  \n",
      "99998  PC 26988   29.68  B20828        C  \n",
      "99999  PC 41824  195.41  E13345        C  \n",
      "\n",
      "[100000 rows x 11 columns]\n",
      "       PassengerId  Survived  Pclass                Name     Sex    Age  \\\n",
      "0                0         1       1    Oconnor, Frankie    male    NaN   \n",
      "1                1         0       3         Bryan, Drew    male    NaN   \n",
      "2                2         0       3      Owens, Kenneth    male   0.33   \n",
      "3                3         0       3       Kramer, James    male  19.00   \n",
      "4                4         1       3       Bond, Michael    male  25.00   \n",
      "...            ...       ...     ...                 ...     ...    ...   \n",
      "99995        99995         1       2         Bell, Adele  female  62.00   \n",
      "99996        99996         0       2       Brown, Herman    male  66.00   \n",
      "99997        99997         0       3  Childress, Charles    male  37.00   \n",
      "99998        99998         0       3    Caughlin, Thomas    male  51.00   \n",
      "99999        99999         0       3       Enciso, Tyler    male  55.00   \n",
      "\n",
      "       SibSp  Parch     Ticket   Fare   Cabin Embarked  \n",
      "0          2      0     209245  27.14  C12239        S  \n",
      "1          0      0      27323  13.35     NaN        S  \n",
      "2          1      2  CA 457703  71.29     NaN        S  \n",
      "3          0      0   A. 10866  13.04     NaN        S  \n",
      "4          0      0     427635   7.76     NaN        S  \n",
      "...      ...    ...        ...    ...     ...      ...  \n",
      "99995      0      0   PC 15008  14.86  D17243        C  \n",
      "99996      0      0      13273  11.15     NaN        S  \n",
      "99997      0      0        NaN   9.95     NaN        S  \n",
      "99998      0      1     458654  30.92     NaN        S  \n",
      "99999      0      0     458074  13.96     NaN        S  \n",
      "\n",
      "[100000 rows x 12 columns]\n"
     ]
    }
   ],
   "source": [
    "PATH = 'data/'\n",
    "sample = pd.read_csv(PATH + 'sample_submission.csv')\n",
    "test = pd.read_csv(PATH + 'test.csv')\n",
    "train = pd.read_csv(PATH + 'train.csv')\n",
    "print(sample)\n",
    "print(test)\n",
    "print(train)"
   ]
  },
  {
   "cell_type": "markdown",
   "id": "5408eca5",
   "metadata": {},
   "source": [
    "# Data exploration"
   ]
  },
  {
   "cell_type": "code",
   "execution_count": null,
   "id": "2417286d",
   "metadata": {},
   "outputs": [],
   "source": []
  },
  {
   "cell_type": "markdown",
   "id": "034945c8",
   "metadata": {},
   "source": [
    "# Summary"
   ]
  },
  {
   "cell_type": "code",
   "execution_count": null,
   "id": "72e3fb13",
   "metadata": {},
   "outputs": [],
   "source": []
  }
 ],
 "metadata": {
  "kernelspec": {
   "display_name": "Python 3 (ipykernel)",
   "language": "python",
   "name": "python3"
  },
  "language_info": {
   "codemirror_mode": {
    "name": "ipython",
    "version": 3
   },
   "file_extension": ".py",
   "mimetype": "text/x-python",
   "name": "python",
   "nbconvert_exporter": "python",
   "pygments_lexer": "ipython3",
   "version": "3.9.7"
  },
  "toc": {
   "base_numbering": 1,
   "nav_menu": {},
   "number_sections": true,
   "sideBar": true,
   "skip_h1_title": false,
   "title_cell": "Table of Contents",
   "title_sidebar": "Contents",
   "toc_cell": false,
   "toc_position": {},
   "toc_section_display": true,
   "toc_window_display": false
  }
 },
 "nbformat": 4,
 "nbformat_minor": 5
}
